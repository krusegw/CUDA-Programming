{
 "cells": [
  {
   "cell_type": "code",
   "execution_count": null,
   "id": "731e4680",
   "metadata": {},
   "outputs": [],
   "source": [
    "import numpy as np\n",
    "import time\n",
    "#from pycuda.compiler import SourceModule\n",
    "from numba import njit, prange\n",
    "import tensorflow as tf\n",
    "import torch"
   ]
  },
  {
   "cell_type": "code",
   "execution_count": null,
   "id": "632b0cca",
   "metadata": {},
   "outputs": [],
   "source": [
    "matrix1 = np.random.rand(400, 300)\n",
    "matrix2 = np.random.rand(300, 500)"
   ]
  },
  {
   "cell_type": "markdown",
   "id": "bb7dd77f",
   "metadata": {},
   "source": [
    "# Naive method"
   ]
  },
  {
   "cell_type": "code",
   "execution_count": null,
   "id": "51439518",
   "metadata": {},
   "outputs": [],
   "source": [
    "# Ensure the number of columns in matrix1 matches the number of rows in matrix2\n",
    "if matrix1.shape[1] != matrix2.shape[0]:\n",
    "    raise ValueError(\"Matrix dimensions do not match for multiplication\")\n",
    "\n",
    "# Initialize the result matrix with zeros\n",
    "result = np.zeros((matrix1.shape[0], matrix2.shape[1]))\n",
    "\n",
    "# Perform matrix multiplication using nested loops\n",
    "start_time = time.time()\n",
    "\n",
    "for i in range(matrix1.shape[0]):\n",
    "    for j in range(matrix2.shape[1]):\n",
    "        for k in range(matrix1.shape[1]):\n",
    "            result[i][j] += matrix1[i][k] * matrix2[k][j]\n",
    "\n",
    "end_time = time.time()\n",
    "print(\"Time taken for matrix multiplication using nested loops:\", end_time - start_time, \"seconds\")\n",
    "\n",
    "print (result[0][0])\n"
   ]
  },
  {
   "cell_type": "markdown",
   "id": "c86e8da0",
   "metadata": {},
   "source": [
    "# Using jit compilation (and cpu cores)"
   ]
  },
  {
   "cell_type": "code",
   "execution_count": null,
   "id": "fde9f5aa",
   "metadata": {},
   "outputs": [],
   "source": [
    "@njit(parallel=True)\n",
    "def matrix_multiply_numba(matrix1, matrix2):\n",
    "    result = np.zeros((matrix1.shape[0], matrix2.shape[1]))\n",
    "    for i in prange(matrix1.shape[0]):\n",
    "        for j in range(matrix2.shape[1]):\n",
    "            for k in range(matrix1.shape[1]):\n",
    "                result[i, j] += matrix1[i, k] * matrix2[k, j]\n",
    "    return result\n",
    "\n",
    "# Perform matrix multiplication using Numba\n",
    "start_time = time.time()\n",
    "result_numba = matrix_multiply_numba(matrix1, matrix2)\n",
    "end_time = time.time()\n",
    "\n",
    "print(\"Time taken for matrix multiplication using Numba:\", end_time - start_time, \"seconds\")\n",
    "print(result_numba[0][0])"
   ]
  },
  {
   "cell_type": "markdown",
   "id": "3ebda734",
   "metadata": {},
   "source": [
    "# Using CUDA jit compilation"
   ]
  },
  {
   "cell_type": "code",
   "execution_count": null,
   "id": "73991a1b",
   "metadata": {},
   "outputs": [],
   "source": [
    "from numba import cuda\n",
    "\n",
    "@cuda.jit\n",
    "def matrix_multiply_cuda(matrix1, matrix2, result):\n",
    "    row, col = cuda.grid(2)\n",
    "    if row < result.shape[0] and col < result.shape[1]:\n",
    "        temp = 0\n",
    "        for k in range(matrix1.shape[1]):\n",
    "            temp += matrix1[row, k] * matrix2[k, col]\n",
    "        result[row, col] = temp\n",
    "\n",
    "# Allocate memory on the device\n",
    "matrix1_device = cuda.to_device(matrix1)\n",
    "matrix2_device = cuda.to_device(matrix2)\n",
    "result_device = cuda.device_array((matrix1.shape[0], matrix2.shape[1]))\n",
    "\n",
    "# Define thread and block dimensions\n",
    "threads_per_block = (20, 20)\n",
    "blocks_per_grid_x = (result.shape[0] + threads_per_block[0] - 1) // threads_per_block[0]\n",
    "blocks_per_grid_y = (result.shape[1] + threads_per_block[1] - 1) // threads_per_block[1]\n",
    "blocks_per_grid = (blocks_per_grid_x, blocks_per_grid_y)\n",
    "\n",
    "# Perform matrix multiplication using CUDA\n",
    "start_time = time.time()\n",
    "matrix_multiply_cuda[blocks_per_grid, threads_per_block](matrix1_device, matrix2_device, result_device)\n",
    "cuda.synchronize()\n",
    "end_time = time.time()\n",
    "\n",
    "# Copy the result back to the host\n",
    "result_cuda = result_device.copy_to_host()\n",
    "\n",
    "print(\"Time taken for matrix multiplication using CUDA with Numba:\", end_time - start_time, \"seconds\")\n",
    "print(result_cuda[0][0])"
   ]
  },
  {
   "cell_type": "markdown",
   "id": "216378d7",
   "metadata": {},
   "source": [
    "# Using tensorflow"
   ]
  },
  {
   "cell_type": "code",
   "execution_count": null,
   "id": "ee0004f0",
   "metadata": {},
   "outputs": [],
   "source": [
    "# Convert numpy arrays to TensorFlow tensors\n",
    "matrix1_tf = tf.convert_to_tensor(matrix1, dtype=tf.float32)\n",
    "matrix2_tf = tf.convert_to_tensor(matrix2, dtype=tf.float32)\n",
    "\n",
    "# Perform matrix multiplication\n",
    "start_time = time.time()\n",
    "result_tf = tf.matmul(matrix1_tf, matrix2_tf)\n",
    "end_time = time.time()\n",
    "\n",
    "print(\"Time taken for matrix multiplication using TensorFlow:\", end_time - start_time, \"seconds\")\n",
    "\n",
    "print (result_tf.numpy().shape)\n",
    "\n",
    "print (result_tf.numpy()[0][0])\n"
   ]
  },
  {
   "cell_type": "markdown",
   "id": "fe24176a",
   "metadata": {},
   "source": [
    "# Using cupy"
   ]
  },
  {
   "cell_type": "code",
   "execution_count": null,
   "id": "b6f14f6d",
   "metadata": {},
   "outputs": [],
   "source": [
    "import cupy as cp\n",
    "\n",
    "# Transfer matrices to GPU\n",
    "matrix1_cupy = cp.asarray(matrix1)\n",
    "matrix2_cupy = cp.asarray(matrix2)\n",
    "\n",
    "# Perform matrix multiplication\n",
    "start_time = time.time()\n",
    "result_cupy = cp.matmul(matrix1_cupy, matrix2_cupy)\n",
    "end_time = time.time()\n",
    "\n",
    "print(\"Time taken for matrix multiplication using CuPy:\", end_time - start_time, \"seconds\")\n",
    "\n",
    "# Transfer result back to CPU and print the first element\n",
    "result_cupy_cpu = cp.asnumpy(result_cupy)\n",
    "print(result_cupy_cpu[0][0])"
   ]
  }
 ],
 "metadata": {
  "kernelspec": {
   "display_name": "ai",
   "language": "python",
   "name": "python3"
  },
  "language_info": {
   "codemirror_mode": {
    "name": "ipython",
    "version": 3
   },
   "file_extension": ".py",
   "mimetype": "text/x-python",
   "name": "python",
   "nbconvert_exporter": "python",
   "pygments_lexer": "ipython3",
   "version": "3.10.13"
  }
 },
 "nbformat": 4,
 "nbformat_minor": 5
}
